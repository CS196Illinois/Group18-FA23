{
 "cells": [
  {
   "cell_type": "code",
   "execution_count": 1,
   "metadata": {},
   "outputs": [
    {
     "name": "stdout",
     "output_type": "stream",
     "text": [
      "28079       Heart User\n",
      "43068    User Friendly\n",
      "662               Here\n",
      "8144              Here\n",
      "23981             Here\n",
      "             ...      \n",
      "57645    Good Old Days\n",
      "57646    Hand To Mouth\n",
      "57647     Come With Me\n",
      "57648           Desire\n",
      "57649        Heartsong\n",
      "Name: song, Length: 57650, dtype: object\n"
     ]
    }
   ],
   "source": [
    "import pandas as pd\n",
    "import re\n",
    "from sklearn.feature_extraction.text import TfidfVectorizer\n",
    "from sklearn.metrics.pairwise import linear_kernel  # for cosine similarity\n",
    "import zipfile\n",
    "\n",
    "# Load your song dataset (replace with your data file)\n",
    "zf = zipfile.ZipFile('spotifymilsongzip.zip') \n",
    "songs = pd.read_csv(zf.open('spotify_millsongdata.csv'))\n",
    "\n",
    "# Define a function to clean song titles\n",
    "def clean_title(song):\n",
    "    return re.sub(r\"[^a-zA-Z0-9]\", \" \", song)\n",
    "\n",
    "songs[\"clean_title\"] = songs[\"song\"].apply(clean_title)\n",
    "\n",
    "# Create a TF-IDF vectorizer\n",
    "vectorizer = TfidfVectorizer(ngram_range=(1, 2))\n",
    "tfidf_matrix = vectorizer.fit_transform(songs[\"clean_title\"])\n",
    "\n",
    "# Collect user data and preferences (replace with actual user data)\n",
    "user_data = [\"Your user input goes here\"]\n",
    "\n",
    "# Preprocess user data\n",
    "user_data_cleaned = [clean_title(song) for song in user_data]\n",
    "\n",
    "# Calculate TF-IDF for user input\n",
    "user_tfidf = vectorizer.transform(user_data_cleaned)\n",
    "\n",
    "# Calculate cosine similarity between user input and songs\n",
    "cosine_sim = linear_kernel(user_tfidf, tfidf_matrix)\n",
    "\n",
    "# Get the top recommendations based on similarity\n",
    "top_recommendations = list(enumerate(cosine_sim[0]))\n",
    "top_recommendations = sorted(top_recommendations, key=lambda x: x[1], reverse=True)\n",
    "\n",
    "# Extract song titles and indices of top recommendations\n",
    "recommendation_indices = [i for i, _ in top_recommendations]\n",
    "recommended_songs = songs.loc[recommendation_indices]\n",
    "\n",
    "# Display recommended songs\n",
    "print(recommended_songs[\"song\"])"
   ]
  }
 ],
 "metadata": {
  "kernelspec": {
   "display_name": "Python 3",
   "language": "python",
   "name": "python3"
  },
  "language_info": {
   "codemirror_mode": {
    "name": "ipython",
    "version": 3
   },
   "file_extension": ".py",
   "mimetype": "text/x-python",
   "name": "python",
   "nbconvert_exporter": "python",
   "pygments_lexer": "ipython3",
   "version": "3.11.5"
  }
 },
 "nbformat": 4,
 "nbformat_minor": 2
}
