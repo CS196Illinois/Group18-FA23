{
 "cells": [
  {
   "cell_type": "code",
   "execution_count": 1,
   "metadata": {},
   "outputs": [],
   "source": [
    "import spotipy\n",
    "from spotipy.oauth2 import SpotifyOAuth\n",
    "from sklearn.feature_extraction.text import TfidfVectorizer\n",
    "from sklearn.metrics.pairwise import linear_kernel\n",
    "\n",
    "# Spotify API credentials\n",
    "client_id = 'your_client_id'\n",
    "client_secret = 'your_client_secret'\n",
    "redirect_uri = 'http://localhost:8888/callback'\n",
    "\n",
    "# Initialize Spotify API with OAuth\n",
    "sp = spotipy.Spotify(auth_manager=SpotifyOAuth(client_id=client_id, client_secret=client_secret, redirect_uri=redirect_uri, scope=\"user-library-read user-top-read\"))\n",
    "\n",
    "def get_user_top_tracks_artists(username):\n",
    "    # Get user's top tracks and artists\n",
    "    top_tracks = sp.current_user_top_tracks(limit=10)\n",
    "    top_artists = sp.current_user_top_artists(limit=10)\n",
    "    \n",
    "    return top_tracks, top_artists\n",
    "\n",
    "def recommend_songs(username):\n",
    "    # Get the user's top tracks and artists\n",
    "    top_tracks, top_artists = get_user_top_tracks_artists(username)\n",
    "\n",
    "    # Extract track names and artist names\n",
    "    top_track_names = [track['name'] for track in top_tracks['items']]\n",
    "    top_artist_names = [artist['name'] for artist in top_artists['items']]\n",
    "\n",
    "    # Create a TF-IDF vectorizer\n",
    "    tfidf_vectorizer = TfidfVectorizer()\n",
    "    tfidf_matrix = tfidf_vectorizer.fit_transform(top_track_names + top_artist_names)\n",
    "\n",
    "    # Compute the cosine similarity between TF-IDF vectors\n",
    "    cosine_similarities = linear_kernel(tfidf_matrix, tfidf_matrix)\n",
    "\n",
    "    # Get recommendations by finding less popular songs similar to the user's top tracks and artists\n",
    "    recommendations = []\n",
    "    for i, track in enumerate(top_track_names):\n",
    "        similar_indices = cosine_similarities[i].argsort()[:-1:-1]  # Sort in descending order\n",
    "        for idx in similar_indices:\n",
    "            if track != top_track_names[idx]:  # Exclude the same track\n",
    "                recommendations.append((top_track_names[idx], top_artist_names[idx]))\n",
    "\n",
    "    return recommendations\n",
    "\n",
    "if __name__ == \"__main__\":\n",
    "    # Replace 'your_username' with the user's Spotify username\n",
    "    username = 'your_username'\n",
    "    \n",
    "    recommendations = recommend_songs(username)\n",
    "    \n",
    "    print(\"Recommended Songs:\")\n",
    "    for i, (track, artist) in enumerate(recommendations):\n",
    "        print(f\"{i + 1}. {track} by {artist}\")\n"
   ]
  }
 ],
 "metadata": {
  "kernelspec": {
   "display_name": "Python 3",
   "language": "python",
   "name": "python3"
  },
  "language_info": {
   "codemirror_mode": {
    "name": "ipython",
    "version": 3
   },
   "file_extension": ".py",
   "mimetype": "text/x-python",
   "name": "python",
   "nbconvert_exporter": "python",
   "pygments_lexer": "ipython3",
   "version": "3.11.5"
  }
 },
 "nbformat": 4,
 "nbformat_minor": 2
}
