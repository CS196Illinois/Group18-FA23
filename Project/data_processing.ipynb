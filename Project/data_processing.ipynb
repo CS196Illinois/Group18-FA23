{
 "cells": [
  {
   "cell_type": "code",
   "execution_count": null,
   "metadata": {},
   "outputs": [],
   "source": [
    "import spotipy\n",
    "from spotipy.oauth2 import SpotifyOAuth\n",
    "from sklearn.feature_extraction.text import CountVectorizer\n",
    "import pandas as pd\n",
    "\n",
    "def get_spotify_data(username, client_id, client_secret):\n",
    "    # Initialize the Spotify API client\n",
    "    sp = spotipy.Spotify(auth_manager=SpotifyOAuth(client_id=client_id, client_secret=client_secret, redirect_uri='http://localhost:8888/callback'))\n",
    "\n",
    "    # Get the user's top artists, songs, and genres\n",
    "    top_artists = []\n",
    "    top_songs = []\n",
    "    top_genres = []\n",
    "\n",
    "    # Get the user's top artists\n",
    "    results = sp.current_user_top_artists(limit=10)  # You can change the limit as needed\n",
    "    for artist in results['items']:\n",
    "        top_artists.append(artist['name'])\n",
    "\n",
    "    # Get the user's top tracks\n",
    "    results = sp.current_user_top_tracks(limit=10)  # You can change the limit as needed\n",
    "    for track in results['items']:\n",
    "        top_songs.append(track['name'])\n",
    "\n",
    "    # You can get the user's top genres from the top artists or tracks by analyzing them\n",
    "\n",
    "    return top_artists, top_songs, top_genres\n",
    "\n",
    "def vectorize_spotify_data(username, client_id, client_secret):\n",
    "    top_artists, top_songs, top_genres = get_spotify_data(username, client_id, client_secret)\n",
    "\n",
    "    # Initialize CountVectorizers for artists, songs, and genres\n",
    "    artist_vectorizer = CountVectorizer()\n",
    "    song_vectorizer = CountVectorizer()\n",
    "    genre_vectorizer = CountVectorizer()\n",
    "\n",
    "    # Fit and transform the data using the vectorizers\n",
    "    artist_vectorizer.fit(top_artists)\n",
    "    song_vectorizer.fit(top_songs)\n",
    "    genre_vectorizer.fit(top_genres)\n",
    "\n",
    "    # Transform the data into vectors\n",
    "    artist_vector = artist_vectorizer.transform(top_artists)\n",
    "    song_vector = song_vectorizer.transform(top_songs)\n",
    "    genre_vector = genre_vectorizer.transform(top_genres)\n",
    "\n",
    "    data = [artist_vector, song_vector, genre_vector]\n",
    "    # Return the vectorized data\n",
    "    return data"
   ]
  }
 ],
 "metadata": {
  "kernelspec": {
   "display_name": "Python 3",
   "language": "python",
   "name": "python3"
  },
  "language_info": {
   "codemirror_mode": {
    "name": "ipython",
    "version": 3
   },
   "file_extension": ".py",
   "mimetype": "text/x-python",
   "name": "python",
   "nbconvert_exporter": "python",
   "pygments_lexer": "ipython3",
   "version": "3.11.6"
  }
 },
 "nbformat": 4,
 "nbformat_minor": 2
}
