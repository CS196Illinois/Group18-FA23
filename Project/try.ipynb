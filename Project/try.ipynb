{
 "cells": [
  {
   "cell_type": "code",
   "execution_count": 8,
   "metadata": {},
   "outputs": [
    {
     "ename": "AttributeError",
     "evalue": "module 'numpy' has no attribute 'ndarray'",
     "output_type": "error",
     "traceback": [
      "\u001b[1;31m---------------------------------------------------------------------------\u001b[0m",
      "\u001b[1;31mAttributeError\u001b[0m                            Traceback (most recent call last)",
      "\u001b[1;32mc:\\Users\\aruvd\\OneDrive\\Documents\\Desktop\\cs124\\Group18-FA23\\Project\\try.ipynb Cell 1\u001b[0m line \u001b[0;36m3\n\u001b[0;32m      <a href='vscode-notebook-cell:/c%3A/Users/aruvd/OneDrive/Documents/Desktop/cs124/Group18-FA23/Project/try.ipynb#W0sZmlsZQ%3D%3D?line=0'>1</a>\u001b[0m \u001b[39mimport\u001b[39;00m \u001b[39mspotipy\u001b[39;00m\n\u001b[0;32m      <a href='vscode-notebook-cell:/c%3A/Users/aruvd/OneDrive/Documents/Desktop/cs124/Group18-FA23/Project/try.ipynb#W0sZmlsZQ%3D%3D?line=1'>2</a>\u001b[0m \u001b[39mfrom\u001b[39;00m \u001b[39mspotipy\u001b[39;00m\u001b[39m.\u001b[39;00m\u001b[39moauth2\u001b[39;00m \u001b[39mimport\u001b[39;00m SpotifyOAuth\n\u001b[1;32m----> <a href='vscode-notebook-cell:/c%3A/Users/aruvd/OneDrive/Documents/Desktop/cs124/Group18-FA23/Project/try.ipynb#W0sZmlsZQ%3D%3D?line=2'>3</a>\u001b[0m \u001b[39mfrom\u001b[39;00m \u001b[39msklearn\u001b[39;00m\u001b[39m.\u001b[39;00m\u001b[39mfeature_extraction\u001b[39;00m\u001b[39m.\u001b[39;00m\u001b[39mtext\u001b[39;00m \u001b[39mimport\u001b[39;00m CountVectorizer\n\u001b[0;32m      <a href='vscode-notebook-cell:/c%3A/Users/aruvd/OneDrive/Documents/Desktop/cs124/Group18-FA23/Project/try.ipynb#W0sZmlsZQ%3D%3D?line=3'>4</a>\u001b[0m \u001b[39mimport\u001b[39;00m \u001b[39mpandas\u001b[39;00m \u001b[39mas\u001b[39;00m \u001b[39mpd\u001b[39;00m\n\u001b[0;32m      <a href='vscode-notebook-cell:/c%3A/Users/aruvd/OneDrive/Documents/Desktop/cs124/Group18-FA23/Project/try.ipynb#W0sZmlsZQ%3D%3D?line=5'>6</a>\u001b[0m \u001b[39mdef\u001b[39;00m \u001b[39mget_spotify_data\u001b[39m(username, client_id, client_secret):\n\u001b[0;32m      <a href='vscode-notebook-cell:/c%3A/Users/aruvd/OneDrive/Documents/Desktop/cs124/Group18-FA23/Project/try.ipynb#W0sZmlsZQ%3D%3D?line=6'>7</a>\u001b[0m     \u001b[39m# Initialize the Spotify API client\u001b[39;00m\n",
      "File \u001b[1;32m~\\AppData\\Local\\Packages\\PythonSoftwareFoundation.Python.3.11_qbz5n2kfra8p0\\LocalCache\\local-packages\\Python311\\site-packages\\sklearn\\__init__.py:83\u001b[0m\n\u001b[0;32m     69\u001b[0m     \u001b[39m# We are not importing the rest of scikit-learn during the build\u001b[39;00m\n\u001b[0;32m     70\u001b[0m     \u001b[39m# process, as it may not be compiled yet\u001b[39;00m\n\u001b[0;32m     71\u001b[0m \u001b[39melse\u001b[39;00m:\n\u001b[1;32m   (...)\u001b[0m\n\u001b[0;32m     77\u001b[0m     \u001b[39m# later is linked to the OpenMP runtime to make it possible to introspect\u001b[39;00m\n\u001b[0;32m     78\u001b[0m     \u001b[39m# it and importing it first would fail if the OpenMP dll cannot be found.\u001b[39;00m\n\u001b[0;32m     79\u001b[0m     \u001b[39mfrom\u001b[39;00m \u001b[39m.\u001b[39;00m \u001b[39mimport\u001b[39;00m (\n\u001b[0;32m     80\u001b[0m         __check_build,  \u001b[39m# noqa: F401\u001b[39;00m\n\u001b[0;32m     81\u001b[0m         _distributor_init,  \u001b[39m# noqa: F401\u001b[39;00m\n\u001b[0;32m     82\u001b[0m     )\n\u001b[1;32m---> 83\u001b[0m     \u001b[39mfrom\u001b[39;00m \u001b[39m.\u001b[39;00m\u001b[39mbase\u001b[39;00m \u001b[39mimport\u001b[39;00m clone\n\u001b[0;32m     84\u001b[0m     \u001b[39mfrom\u001b[39;00m \u001b[39m.\u001b[39;00m\u001b[39mutils\u001b[39;00m\u001b[39m.\u001b[39;00m\u001b[39m_show_versions\u001b[39;00m \u001b[39mimport\u001b[39;00m show_versions\n\u001b[0;32m     86\u001b[0m     __all__ \u001b[39m=\u001b[39m [\n\u001b[0;32m     87\u001b[0m         \u001b[39m\"\u001b[39m\u001b[39mcalibration\u001b[39m\u001b[39m\"\u001b[39m,\n\u001b[0;32m     88\u001b[0m         \u001b[39m\"\u001b[39m\u001b[39mcluster\u001b[39m\u001b[39m\"\u001b[39m,\n\u001b[1;32m   (...)\u001b[0m\n\u001b[0;32m    129\u001b[0m         \u001b[39m\"\u001b[39m\u001b[39mshow_versions\u001b[39m\u001b[39m\"\u001b[39m,\n\u001b[0;32m    130\u001b[0m     ]\n",
      "File \u001b[1;32m~\\AppData\\Local\\Packages\\PythonSoftwareFoundation.Python.3.11_qbz5n2kfra8p0\\LocalCache\\local-packages\\Python311\\site-packages\\sklearn\\base.py:14\u001b[0m\n\u001b[0;32m     11\u001b[0m \u001b[39mimport\u001b[39;00m \u001b[39mwarnings\u001b[39;00m\n\u001b[0;32m     12\u001b[0m \u001b[39mfrom\u001b[39;00m \u001b[39mcollections\u001b[39;00m \u001b[39mimport\u001b[39;00m defaultdict\n\u001b[1;32m---> 14\u001b[0m \u001b[39mimport\u001b[39;00m \u001b[39mnumpy\u001b[39;00m \u001b[39mas\u001b[39;00m \u001b[39mnp\u001b[39;00m\n\u001b[0;32m     16\u001b[0m \u001b[39mfrom\u001b[39;00m \u001b[39m.\u001b[39;00m \u001b[39mimport\u001b[39;00m __version__\n\u001b[0;32m     17\u001b[0m \u001b[39mfrom\u001b[39;00m \u001b[39m.\u001b[39;00m\u001b[39m_config\u001b[39;00m \u001b[39mimport\u001b[39;00m config_context, get_config\n",
      "File \u001b[1;32m~\\AppData\\Local\\Packages\\PythonSoftwareFoundation.Python.3.11_qbz5n2kfra8p0\\LocalCache\\local-packages\\Python311\\site-packages\\numpy\\__init__.py:230\u001b[0m\n\u001b[0;32m    228\u001b[0m \u001b[39mfrom\u001b[39;00m \u001b[39m.\u001b[39;00m\u001b[39mcore\u001b[39;00m \u001b[39mimport\u001b[39;00m \u001b[39mabs\u001b[39m\n\u001b[0;32m    229\u001b[0m \u001b[39m# now that numpy modules are imported, can initialize limits\u001b[39;00m\n\u001b[1;32m--> 230\u001b[0m core\u001b[39m.\u001b[39;49mgetlimits\u001b[39m.\u001b[39;49m_register_known_types()\n\u001b[0;32m    232\u001b[0m __all__\u001b[39m.\u001b[39mextend([\u001b[39m'\u001b[39m\u001b[39m__version__\u001b[39m\u001b[39m'\u001b[39m, \u001b[39m'\u001b[39m\u001b[39mshow_config\u001b[39m\u001b[39m'\u001b[39m])\n\u001b[0;32m    233\u001b[0m __all__\u001b[39m.\u001b[39mextend(core\u001b[39m.\u001b[39m__all__)\n",
      "File \u001b[1;32m~\\AppData\\Local\\Packages\\PythonSoftwareFoundation.Python.3.11_qbz5n2kfra8p0\\LocalCache\\local-packages\\Python311\\site-packages\\numpy\\core\\getlimits.py:230\u001b[0m, in \u001b[0;36m_register_known_types\u001b[1;34m()\u001b[0m\n\u001b[0;32m    228\u001b[0m \u001b[39mwith\u001b[39;00m numeric\u001b[39m.\u001b[39merrstate(\u001b[39mall\u001b[39m\u001b[39m=\u001b[39m\u001b[39m'\u001b[39m\u001b[39mignore\u001b[39m\u001b[39m'\u001b[39m):\n\u001b[0;32m    229\u001b[0m     huge_f128 \u001b[39m=\u001b[39m (ld(\u001b[39m1\u001b[39m) \u001b[39m-\u001b[39m epsneg_f128) \u001b[39m/\u001b[39m tiny_f128 \u001b[39m*\u001b[39m ld(\u001b[39m4\u001b[39m)\n\u001b[1;32m--> 230\u001b[0m float128_ma \u001b[39m=\u001b[39m MachArLike(ld,\n\u001b[0;32m    231\u001b[0m                          machep\u001b[39m=\u001b[39;49m\u001b[39m-\u001b[39;49m\u001b[39m112\u001b[39;49m,\n\u001b[0;32m    232\u001b[0m                          negep\u001b[39m=\u001b[39;49m\u001b[39m-\u001b[39;49m\u001b[39m113\u001b[39;49m,\n\u001b[0;32m    233\u001b[0m                          minexp\u001b[39m=\u001b[39;49m\u001b[39m-\u001b[39;49m\u001b[39m16382\u001b[39;49m,\n\u001b[0;32m    234\u001b[0m                          maxexp\u001b[39m=\u001b[39;49m\u001b[39m16384\u001b[39;49m,\n\u001b[0;32m    235\u001b[0m                          it\u001b[39m=\u001b[39;49m\u001b[39m112\u001b[39;49m,\n\u001b[0;32m    236\u001b[0m                          iexp\u001b[39m=\u001b[39;49m\u001b[39m15\u001b[39;49m,\n\u001b[0;32m    237\u001b[0m                          ibeta\u001b[39m=\u001b[39;49m\u001b[39m2\u001b[39;49m,\n\u001b[0;32m    238\u001b[0m                          irnd\u001b[39m=\u001b[39;49m\u001b[39m5\u001b[39;49m,\n\u001b[0;32m    239\u001b[0m                          ngrd\u001b[39m=\u001b[39;49m\u001b[39m0\u001b[39;49m,\n\u001b[0;32m    240\u001b[0m                          eps\u001b[39m=\u001b[39;49mexp2(ld(\u001b[39m-\u001b[39;49m\u001b[39m112\u001b[39;49m)),\n\u001b[0;32m    241\u001b[0m                          epsneg\u001b[39m=\u001b[39;49mepsneg_f128,\n\u001b[0;32m    242\u001b[0m                          huge\u001b[39m=\u001b[39;49mhuge_f128,\n\u001b[0;32m    243\u001b[0m                          tiny\u001b[39m=\u001b[39;49mtiny_f128)\n\u001b[0;32m    244\u001b[0m \u001b[39m# IEEE 754 128-bit binary float\u001b[39;00m\n\u001b[0;32m    245\u001b[0m _register_type(float128_ma,\n\u001b[0;32m    246\u001b[0m     \u001b[39mb\u001b[39m\u001b[39m'\u001b[39m\u001b[39m\\x9a\u001b[39;00m\u001b[39m\\x99\u001b[39;00m\u001b[39m\\x99\u001b[39;00m\u001b[39m\\x99\u001b[39;00m\u001b[39m\\x99\u001b[39;00m\u001b[39m\\x99\u001b[39;00m\u001b[39m\\x99\u001b[39;00m\u001b[39m\\x99\u001b[39;00m\u001b[39m\\x99\u001b[39;00m\u001b[39m\\x99\u001b[39;00m\u001b[39m\\x99\u001b[39;00m\u001b[39m\\x99\u001b[39;00m\u001b[39m\\x99\u001b[39;00m\u001b[39m\\x99\u001b[39;00m\u001b[39m\\xfb\u001b[39;00m\u001b[39m\\xbf\u001b[39;00m\u001b[39m'\u001b[39m)\n",
      "File \u001b[1;32m~\\AppData\\Local\\Packages\\PythonSoftwareFoundation.Python.3.11_qbz5n2kfra8p0\\LocalCache\\local-packages\\Python311\\site-packages\\numpy\\core\\getlimits.py:55\u001b[0m, in \u001b[0;36mMachArLike.__init__\u001b[1;34m(self, ftype, eps, epsneg, huge, tiny, ibeta, smallest_subnormal, **kwargs)\u001b[0m\n\u001b[0;32m     52\u001b[0m \u001b[39mself\u001b[39m\u001b[39m.\u001b[39mprecision \u001b[39m=\u001b[39m \u001b[39mint\u001b[39m(\u001b[39m-\u001b[39mlog10(\u001b[39mself\u001b[39m\u001b[39m.\u001b[39meps))\n\u001b[0;32m     53\u001b[0m \u001b[39mself\u001b[39m\u001b[39m.\u001b[39mresolution \u001b[39m=\u001b[39m \u001b[39mself\u001b[39m\u001b[39m.\u001b[39m_float_to_float(\n\u001b[0;32m     54\u001b[0m     \u001b[39mself\u001b[39m\u001b[39m.\u001b[39m_float_conv(\u001b[39m10\u001b[39m) \u001b[39m*\u001b[39m\u001b[39m*\u001b[39m (\u001b[39m-\u001b[39m\u001b[39mself\u001b[39m\u001b[39m.\u001b[39mprecision))\n\u001b[1;32m---> 55\u001b[0m \u001b[39mself\u001b[39m\u001b[39m.\u001b[39m_str_eps \u001b[39m=\u001b[39m \u001b[39mself\u001b[39;49m\u001b[39m.\u001b[39;49m_float_to_str(\u001b[39mself\u001b[39;49m\u001b[39m.\u001b[39;49meps)\n\u001b[0;32m     56\u001b[0m \u001b[39mself\u001b[39m\u001b[39m.\u001b[39m_str_epsneg \u001b[39m=\u001b[39m \u001b[39mself\u001b[39m\u001b[39m.\u001b[39m_float_to_str(\u001b[39mself\u001b[39m\u001b[39m.\u001b[39mepsneg)\n\u001b[0;32m     57\u001b[0m \u001b[39mself\u001b[39m\u001b[39m.\u001b[39m_str_xmin \u001b[39m=\u001b[39m \u001b[39mself\u001b[39m\u001b[39m.\u001b[39m_float_to_str(\u001b[39mself\u001b[39m\u001b[39m.\u001b[39mxmin)\n",
      "File \u001b[1;32m~\\AppData\\Local\\Packages\\PythonSoftwareFoundation.Python.3.11_qbz5n2kfra8p0\\LocalCache\\local-packages\\Python311\\site-packages\\numpy\\core\\getlimits.py:119\u001b[0m, in \u001b[0;36mMachArLike._float_to_str\u001b[1;34m(self, value)\u001b[0m\n\u001b[0;32m    111\u001b[0m \u001b[39mdef\u001b[39;00m \u001b[39m_float_to_str\u001b[39m(\u001b[39mself\u001b[39m, value):\n\u001b[0;32m    112\u001b[0m \u001b[39m    \u001b[39m\u001b[39m\"\"\"Converts float to str.\u001b[39;00m\n\u001b[0;32m    113\u001b[0m \n\u001b[0;32m    114\u001b[0m \u001b[39m    Parameters\u001b[39;00m\n\u001b[1;32m   (...)\u001b[0m\n\u001b[0;32m    117\u001b[0m \u001b[39m        value to be converted.\u001b[39;00m\n\u001b[0;32m    118\u001b[0m \u001b[39m    \"\"\"\u001b[39;00m\n\u001b[1;32m--> 119\u001b[0m     \u001b[39mreturn\u001b[39;00m \u001b[39mself\u001b[39;49m\u001b[39m.\u001b[39;49mparams[\u001b[39m'\u001b[39;49m\u001b[39mfmt\u001b[39;49m\u001b[39m'\u001b[39;49m] \u001b[39m%\u001b[39;49m array(_fr0(value)[\u001b[39m0\u001b[39;49m], \u001b[39mself\u001b[39;49m\u001b[39m.\u001b[39;49mftype)\n",
      "File \u001b[1;32m~\\AppData\\Local\\Packages\\PythonSoftwareFoundation.Python.3.11_qbz5n2kfra8p0\\LocalCache\\local-packages\\Python311\\site-packages\\numpy\\core\\arrayprint.py:1610\u001b[0m, in \u001b[0;36m_array_str_implementation\u001b[1;34m(a, max_line_width, precision, suppress_small, array2string)\u001b[0m\n\u001b[0;32m   1603\u001b[0m \u001b[39m# the str of 0d arrays is a special case: It should appear like a scalar,\u001b[39;00m\n\u001b[0;32m   1604\u001b[0m \u001b[39m# so floats are not truncated by `precision`, and strings are not wrapped\u001b[39;00m\n\u001b[0;32m   1605\u001b[0m \u001b[39m# in quotes. So we return the str of the scalar value.\u001b[39;00m\n\u001b[0;32m   1606\u001b[0m \u001b[39mif\u001b[39;00m a\u001b[39m.\u001b[39mshape \u001b[39m==\u001b[39m ():\n\u001b[0;32m   1607\u001b[0m     \u001b[39m# obtain a scalar and call str on it, avoiding problems for subclasses\u001b[39;00m\n\u001b[0;32m   1608\u001b[0m     \u001b[39m# for which indexing with () returns a 0d instead of a scalar by using\u001b[39;00m\n\u001b[0;32m   1609\u001b[0m     \u001b[39m# ndarray's getindex. Also guard against recursive 0d object arrays.\u001b[39;00m\n\u001b[1;32m-> 1610\u001b[0m     \u001b[39mreturn\u001b[39;00m _guarded_repr_or_str(np\u001b[39m.\u001b[39;49mndarray\u001b[39m.\u001b[39m\u001b[39m__getitem__\u001b[39m(a, ()))\n\u001b[0;32m   1612\u001b[0m \u001b[39mreturn\u001b[39;00m array2string(a, max_line_width, precision, suppress_small, \u001b[39m'\u001b[39m\u001b[39m \u001b[39m\u001b[39m'\u001b[39m, \u001b[39m\"\u001b[39m\u001b[39m\"\u001b[39m)\n",
      "\u001b[1;31mAttributeError\u001b[0m: module 'numpy' has no attribute 'ndarray'"
     ]
    }
   ],
   "source": [
    "import spotipy\n",
    "from spotipy.oauth2 import SpotifyOAuth\n",
    "from sklearn.feature_extraction.text import CountVectorizer\n",
    "import pandas as pd\n",
    "\n",
    "def get_spotify_data(username, client_id, client_secret):\n",
    "    # Initialize the Spotify API client\n",
    "    sp = spotipy.Spotify(auth_manager=SpotifyOAuth(client_id=client_id, client_secret=client_secret, redirect_uri='http://localhost:8888/callback'))\n",
    "\n",
    "    # Get the user's top artists, songs, and genres\n",
    "    top_artists = []\n",
    "    top_songs = []\n",
    "    top_genres = []\n",
    "\n",
    "    # Get the user's top artists\n",
    "    results = sp.current_user_top_artists(limit=10)  # You can change the limit as needed\n",
    "    for artist in results['items']:\n",
    "        top_artists.append(artist['name'])\n",
    "\n",
    "    # Get the user's top tracks\n",
    "    results = sp.current_user_top_tracks(limit=10)  # You can change the limit as needed\n",
    "    for track in results['items']:\n",
    "        top_songs.append(track['name'])\n",
    "\n",
    "    # You can get the user's top genres from the top artists or tracks by analyzing them\n",
    "\n",
    "    return top_artists, top_songs, top_genres\n",
    "\n",
    "def vectorize_spotify_data(username, client_id, client_secret):\n",
    "    top_artists, top_songs, top_genres = get_spotify_data(username, client_id, client_secret)\n",
    "\n",
    "    # Initialize CountVectorizers for artists, songs, and genres\n",
    "    artist_vectorizer = CountVectorizer()\n",
    "    song_vectorizer = CountVectorizer()\n",
    "    genre_vectorizer = CountVectorizer()\n",
    "\n",
    "    # Fit and transform the data using the vectorizers\n",
    "    artist_vectorizer.fit(top_artists)\n",
    "    song_vectorizer.fit(top_songs)\n",
    "    genre_vectorizer.fit(top_genres)\n",
    "\n",
    "    # Transform the data into vectors\n",
    "    artist_vector = artist_vectorizer.transform(top_artists)\n",
    "    song_vector = song_vectorizer.transform(top_songs)\n",
    "    genre_vector = genre_vectorizer.transform(top_genres)\n",
    "\n",
    "    # Return the vectorized data\n",
    "    return artist_vector, song_vector, genre_vector\n",
    "\n",
    "# Example usage\n",
    "#if __name__ == \"__main__\":\n",
    "#    username = \"your_username\"\n",
    "#    client_id = \"your_client_id\"\n",
    "#    client_secret = \"your_client_secret\"\n",
    "#    artist_vector, song_vector, genre_vector = vectorize_spotify_data(username, client_id, client_secret)"
   ]
  },
  {
   "cell_type": "code",
   "execution_count": null,
   "metadata": {},
   "outputs": [],
   "source": []
  }
 ],
 "metadata": {
  "kernelspec": {
   "display_name": "Python 3",
   "language": "python",
   "name": "python3"
  },
  "language_info": {
   "codemirror_mode": {
    "name": "ipython",
    "version": 3
   },
   "file_extension": ".py",
   "mimetype": "text/x-python",
   "name": "python",
   "nbconvert_exporter": "python",
   "pygments_lexer": "ipython3",
   "version": "3.11.5"
  }
 },
 "nbformat": 4,
 "nbformat_minor": 2
}
